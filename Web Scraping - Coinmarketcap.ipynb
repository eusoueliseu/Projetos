{
 "cells": [
  {
   "cell_type": "markdown",
   "id": "902440a5",
   "metadata": {},
   "source": [
    "## Vamos raspar os dados do coinmarketcap para obter os preços das criptomoedas com maiores valor de mercado\n",
    "\n",
    "Este script busca as infos de nome e preço com base no ranking do site Coinmarketcap\n",
    "\n",
    "O site elabora o ranking com base no valor de mercado destes ativos"
   ]
  },
  {
   "cell_type": "code",
   "execution_count": 108,
   "id": "7e499853",
   "metadata": {},
   "outputs": [],
   "source": [
    "from bs4 import BeautifulSoup as bs\n",
    "import requests"
   ]
  },
  {
   "cell_type": "code",
   "execution_count": 109,
   "id": "1f2e55aa",
   "metadata": {},
   "outputs": [
    {
     "data": {
      "text/plain": [
       "{'Bitcoin': '$43,608.67',\n",
       " 'Ethereum': '$2,917.25',\n",
       " 'Tether': '$1.00',\n",
       " 'BNB': '$411.41',\n",
       " 'USD Coin': '$0.9998',\n",
       " 'XRP': '$0.769',\n",
       " 'Terra': '$93.00',\n",
       " 'Solana': '$99.91',\n",
       " 'Cardano': '$0.9231',\n",
       " 'Avalanche': '$81.93'}"
      ]
     },
     "metadata": {},
     "output_type": "display_data"
    }
   ],
   "source": [
    "url = 'https://coinmarketcap.com/'\n",
    "result = requests.get(url).text\n",
    "doc = bs(result, 'html.parser')\n",
    "tbody = doc.tbody\n",
    "trs = tbody.contents\n",
    "\n",
    "prices = {}\n",
    "\n",
    "for tr in trs[:10]:\n",
    "    name, price = tr.contents[2:4]\n",
    "    nomes = name.p.string\n",
    "    precos = price.a.string\n",
    "    \n",
    "    prices[nomes] = precos\n",
    "\n",
    "display(prices)\n"
   ]
  }
 ],
 "metadata": {
  "kernelspec": {
   "display_name": "Python 3",
   "language": "python",
   "name": "python3"
  },
  "language_info": {
   "codemirror_mode": {
    "name": "ipython",
    "version": 3
   },
   "file_extension": ".py",
   "mimetype": "text/x-python",
   "name": "python",
   "nbconvert_exporter": "python",
   "pygments_lexer": "ipython3",
   "version": "3.8.8"
  }
 },
 "nbformat": 4,
 "nbformat_minor": 5
}
