{
 "cells": [
  {
   "cell_type": "markdown",
   "id": "f69df9ef",
   "metadata": {},
   "source": [
    "# Projeto Webscraping mercado cripto\n",
    "\n",
    "Este projeto tem o objetivo de buscar diversos dados online de forma automatizada e rápida"
   ]
  },
  {
   "cell_type": "code",
   "execution_count": 1,
   "id": "a906cd37",
   "metadata": {},
   "outputs": [],
   "source": [
    "#Vamos começar importando as bibliotecas necessárias\n",
    "\n",
    "from bs4 import BeautifulSoup as bs\n",
    "import requests\n",
    "import pandas as pd"
   ]
  },
  {
   "cell_type": "code",
   "execution_count": 2,
   "id": "5e9086a2",
   "metadata": {},
   "outputs": [],
   "source": [
    "website = 'https://www.coingecko.com'\n",
    "response = requests.get(website)\n",
    "soup = bs(response.content, 'html.parser')"
   ]
  },
  {
   "cell_type": "code",
   "execution_count": 3,
   "id": "cc262ed8",
   "metadata": {},
   "outputs": [],
   "source": [
    "results = soup.find('table', {'class':'table-scrollable'}).find('tbody').find_all('tr')"
   ]
  },
  {
   "cell_type": "markdown",
   "id": "e78a7f81",
   "metadata": {},
   "source": [
    "## Agora vamos acessar os campos escolhidos\n",
    "\n",
    "### Nome"
   ]
  },
  {
   "cell_type": "code",
   "execution_count": 4,
   "id": "0bd1e1a6",
   "metadata": {},
   "outputs": [
    {
     "data": {
      "text/plain": [
       "'Bitcoin'"
      ]
     },
     "execution_count": 4,
     "metadata": {},
     "output_type": "execute_result"
    }
   ],
   "source": [
    "#Vamos pegar o nome do primeiro ativo\n",
    "results[0].find('a', {'class': 'tw-hidden lg:tw-flex font-bold tw-items-center tw-justify-between'}).get_text().strip()"
   ]
  },
  {
   "cell_type": "markdown",
   "id": "8d014a4b",
   "metadata": {},
   "source": [
    "### Preço"
   ]
  },
  {
   "cell_type": "code",
   "execution_count": 5,
   "id": "a215a7e8",
   "metadata": {},
   "outputs": [
    {
     "data": {
      "text/plain": [
       "'$39,501.95'"
      ]
     },
     "execution_count": 5,
     "metadata": {},
     "output_type": "execute_result"
    }
   ],
   "source": [
    "#Vamos acessar o preço do primeiro ativo\n",
    "\n",
    "results[0].find('td', {'class': 'td-price price text-right pl-0'}).get_text().strip()"
   ]
  },
  {
   "cell_type": "markdown",
   "id": "5529b1ad",
   "metadata": {},
   "source": [
    "### Variação 24h"
   ]
  },
  {
   "cell_type": "code",
   "execution_count": 6,
   "id": "c90b6067",
   "metadata": {},
   "outputs": [
    {
     "data": {
      "text/plain": [
       "'1.1%'"
      ]
     },
     "execution_count": 6,
     "metadata": {},
     "output_type": "execute_result"
    }
   ],
   "source": [
    "#Esta é a variação do ativo nas últimas 24h\n",
    "\n",
    "results[0].find('td', {'class': 'td-change24h'}).get_text().strip()"
   ]
  },
  {
   "cell_type": "markdown",
   "id": "f4e76160",
   "metadata": {},
   "source": [
    "### Volume 24h"
   ]
  },
  {
   "cell_type": "code",
   "execution_count": 7,
   "id": "be1fe13d",
   "metadata": {},
   "outputs": [
    {
     "data": {
      "text/plain": [
       "'$15,187,403,950'"
      ]
     },
     "execution_count": 7,
     "metadata": {},
     "output_type": "execute_result"
    }
   ],
   "source": [
    "#Este é o volume negociado no ativo nas últimas 24h\n",
    "\n",
    "results[0].find('td', {'class': 'td-liquidity_score'}).get_text().strip()"
   ]
  },
  {
   "cell_type": "markdown",
   "id": "788b7bed",
   "metadata": {},
   "source": [
    "### Valor de Mercado"
   ]
  },
  {
   "cell_type": "code",
   "execution_count": 8,
   "id": "70782ac5",
   "metadata": {},
   "outputs": [
    {
     "data": {
      "text/plain": [
       "'$749,957,447,784'"
      ]
     },
     "execution_count": 8,
     "metadata": {},
     "output_type": "execute_result"
    }
   ],
   "source": [
    "#Agora vamos acessar valor de mercado total do primeiro ativo\n",
    "\n",
    "results[0].find('td', {'class': 'td-market_cap'}).get_text().strip()"
   ]
  },
  {
   "cell_type": "markdown",
   "id": "1e85d341",
   "metadata": {},
   "source": [
    "## Loop para coletar dados de todas as linhas\n",
    "Como coletamos os resultados apenas do primeiro ativo, precisamos requisitar as infos dos outros\n"
   ]
  },
  {
   "cell_type": "code",
   "execution_count": 9,
   "id": "cf4b5052",
   "metadata": {},
   "outputs": [],
   "source": [
    "#Vamos começar criando listas vazias para preencher com os valores que desejamos\n",
    "\n",
    "nome = []\n",
    "preco = []\n",
    "variacao = []\n",
    "volume = []\n",
    "mercado = []"
   ]
  },
  {
   "cell_type": "code",
   "execution_count": 10,
   "id": "42771dfb",
   "metadata": {},
   "outputs": [],
   "source": [
    "#Vamos criar o loop para coletar os nomes unitariamente\n",
    "\n",
    "for result in results:\n",
    "    \n",
    "    #nome\n",
    "    try:\n",
    "        nome.append(result.find('a', {'class': 'tw-hidden lg:tw-flex font-bold tw-items-center tw-justify-between'}).get_text().strip())\n",
    "    except:\n",
    "        nome.append('n/a')"
   ]
  },
  {
   "cell_type": "code",
   "execution_count": 11,
   "id": "5641c31e",
   "metadata": {},
   "outputs": [],
   "source": [
    "#Agora que temos um loop para os nomes, vamos criar um loop para cada uma das outras informações necessárias\n",
    "\n",
    "for result in results:\n",
    "    \n",
    "    #preço\n",
    "    try:\n",
    "        preco.append(result.find('td', {'class': 'td-price price text-right pl-0'}).get_text().strip())\n",
    "    except:\n",
    "        preco.append('n/a')\n",
    "        \n",
    "        \n",
    "    #Variação\n",
    "    try:\n",
    "        variacao.append(result.find('td', {'class': 'td-change24h'}).get_text().strip())\n",
    "    except:\n",
    "        variacao.append('n/a')\n",
    "            \n",
    "            \n",
    "    #Volume\n",
    "    try:\n",
    "        volume.append(result.find('td', {'class': 'td-liquidity_score'}).get_text().strip())\n",
    "    except:\n",
    "        volume.append('n/a')        \n",
    "     \n",
    "    \n",
    "    #Valor de Mercado\n",
    "    try:\n",
    "        mercado.append(result.find('td', {'class': 'td-market_cap'}).get_text().strip())\n",
    "    except:\n",
    "        mercado.append('n/a')       "
   ]
  },
  {
   "cell_type": "markdown",
   "id": "3ec3bc98",
   "metadata": {},
   "source": [
    "## Listando os valores num mesmo objeto"
   ]
  },
  {
   "cell_type": "code",
   "execution_count": 12,
   "id": "9d498a80",
   "metadata": {},
   "outputs": [],
   "source": [
    "#Vamos criar um Pandas dataframe para armazenar os campos coletados no scrapping\n",
    "\n",
    "tabela_cripto = pd.DataFrame({'Criptoativo': nome, 'Preço': preco, 'Variação': variacao, 'Volume 24h': volume, 'MarketCap': mercado})"
   ]
  },
  {
   "cell_type": "markdown",
   "id": "eb1bc452",
   "metadata": {},
   "source": [
    "## Vamos olhar a tabela pronta"
   ]
  },
  {
   "cell_type": "code",
   "execution_count": 13,
   "id": "eeb87528",
   "metadata": {},
   "outputs": [
    {
     "data": {
      "text/html": [
       "<div>\n",
       "<style scoped>\n",
       "    .dataframe tbody tr th:only-of-type {\n",
       "        vertical-align: middle;\n",
       "    }\n",
       "\n",
       "    .dataframe tbody tr th {\n",
       "        vertical-align: top;\n",
       "    }\n",
       "\n",
       "    .dataframe thead th {\n",
       "        text-align: right;\n",
       "    }\n",
       "</style>\n",
       "<table border=\"1\" class=\"dataframe\">\n",
       "  <thead>\n",
       "    <tr style=\"text-align: right;\">\n",
       "      <th></th>\n",
       "      <th>Criptoativo</th>\n",
       "      <th>Preço</th>\n",
       "      <th>Variação</th>\n",
       "      <th>Volume 24h</th>\n",
       "      <th>MarketCap</th>\n",
       "    </tr>\n",
       "  </thead>\n",
       "  <tbody>\n",
       "    <tr>\n",
       "      <th>0</th>\n",
       "      <td>Bitcoin</td>\n",
       "      <td>$39,501.95</td>\n",
       "      <td>1.1%</td>\n",
       "      <td>$15,187,403,950</td>\n",
       "      <td>$749,957,447,784</td>\n",
       "    </tr>\n",
       "    <tr>\n",
       "      <th>1</th>\n",
       "      <td>Ethereum</td>\n",
       "      <td>$2,671.04</td>\n",
       "      <td>2.1%</td>\n",
       "      <td>$8,793,532,792</td>\n",
       "      <td>$320,400,416,553</td>\n",
       "    </tr>\n",
       "    <tr>\n",
       "      <th>2</th>\n",
       "      <td>Tether</td>\n",
       "      <td>$1.00</td>\n",
       "      <td>0.1%</td>\n",
       "      <td>$40,917,828,572</td>\n",
       "      <td>$79,892,618,393</td>\n",
       "    </tr>\n",
       "    <tr>\n",
       "      <th>3</th>\n",
       "      <td>BNB</td>\n",
       "      <td>$384.93</td>\n",
       "      <td>2.5%</td>\n",
       "      <td>$1,231,753,041</td>\n",
       "      <td>$64,744,790,532</td>\n",
       "    </tr>\n",
       "    <tr>\n",
       "      <th>4</th>\n",
       "      <td>USD Coin</td>\n",
       "      <td>$1.00</td>\n",
       "      <td>-0.1%</td>\n",
       "      <td>$2,045,418,232</td>\n",
       "      <td>$52,992,471,954</td>\n",
       "    </tr>\n",
       "    <tr>\n",
       "      <th>...</th>\n",
       "      <td>...</td>\n",
       "      <td>...</td>\n",
       "      <td>...</td>\n",
       "      <td>...</td>\n",
       "      <td>...</td>\n",
       "    </tr>\n",
       "    <tr>\n",
       "      <th>95</th>\n",
       "      <td>Dash</td>\n",
       "      <td>$89.81</td>\n",
       "      <td>0.4%</td>\n",
       "      <td>$94,184,833</td>\n",
       "      <td>$953,641,478</td>\n",
       "    </tr>\n",
       "    <tr>\n",
       "      <th>96</th>\n",
       "      <td>Loopring</td>\n",
       "      <td>$0.760095</td>\n",
       "      <td>3.3%</td>\n",
       "      <td>$90,696,634</td>\n",
       "      <td>$947,964,851</td>\n",
       "    </tr>\n",
       "    <tr>\n",
       "      <th>97</th>\n",
       "      <td>Convex Finance</td>\n",
       "      <td>$17.55</td>\n",
       "      <td>-1.4%</td>\n",
       "      <td>$40,232,920</td>\n",
       "      <td>$932,621,644</td>\n",
       "    </tr>\n",
       "    <tr>\n",
       "      <th>98</th>\n",
       "      <td>Curve DAO Token</td>\n",
       "      <td>$2.25</td>\n",
       "      <td>-0.1%</td>\n",
       "      <td>$100,583,535</td>\n",
       "      <td>$882,713,509</td>\n",
       "    </tr>\n",
       "    <tr>\n",
       "      <th>99</th>\n",
       "      <td>NEM</td>\n",
       "      <td>$0.097541388416</td>\n",
       "      <td>1.7%</td>\n",
       "      <td>$11,164,568</td>\n",
       "      <td>$877,964,932</td>\n",
       "    </tr>\n",
       "  </tbody>\n",
       "</table>\n",
       "<p>100 rows × 5 columns</p>\n",
       "</div>"
      ],
      "text/plain": [
       "        Criptoativo            Preço Variação       Volume 24h  \\\n",
       "0           Bitcoin       $39,501.95     1.1%  $15,187,403,950   \n",
       "1          Ethereum        $2,671.04     2.1%   $8,793,532,792   \n",
       "2            Tether            $1.00     0.1%  $40,917,828,572   \n",
       "3               BNB          $384.93     2.5%   $1,231,753,041   \n",
       "4          USD Coin            $1.00    -0.1%   $2,045,418,232   \n",
       "..              ...              ...      ...              ...   \n",
       "95             Dash           $89.81     0.4%      $94,184,833   \n",
       "96         Loopring        $0.760095     3.3%      $90,696,634   \n",
       "97   Convex Finance           $17.55    -1.4%      $40,232,920   \n",
       "98  Curve DAO Token            $2.25    -0.1%     $100,583,535   \n",
       "99              NEM  $0.097541388416     1.7%      $11,164,568   \n",
       "\n",
       "           MarketCap  \n",
       "0   $749,957,447,784  \n",
       "1   $320,400,416,553  \n",
       "2    $79,892,618,393  \n",
       "3    $64,744,790,532  \n",
       "4    $52,992,471,954  \n",
       "..               ...  \n",
       "95      $953,641,478  \n",
       "96      $947,964,851  \n",
       "97      $932,621,644  \n",
       "98      $882,713,509  \n",
       "99      $877,964,932  \n",
       "\n",
       "[100 rows x 5 columns]"
      ]
     },
     "metadata": {},
     "output_type": "display_data"
    }
   ],
   "source": [
    "display(tabela_cripto)"
   ]
  },
  {
   "attachments": {
    "image-3.png": {
     "image/png": "[encoded data removed]"
    },
    "image-4.png": {
     "image/png": "[encoded data removed]"
    }
   },
   "cell_type": "markdown",
   "id": "600da86c",
   "metadata": {},
   "source": [
    "## Mas fizemos a raspagem de apenas uma página. Como raspar múltiplas páginas e coletar os dados dos 100 ativos de cada página?\n",
    "\n",
    "### Paginação do scrapping\n",
    "\n",
    "Ao navegar pelas páginas, a alteração do link se dá desta forma:\n",
    " \n",
    "  \n",
    "![image-3.png](attachment:image-3.png)\n",
    " \n",
    "  \n",
    "\n",
    "![image-4.png](attachment:image-4.png)\n",
    "\n",
    " \n",
    " \n",
    "Vamos usar este padrão para coletar infos de diversas páginas em looping"
   ]
  },
  {
   "cell_type": "code",
   "execution_count": 15,
   "id": "c64f335f",
   "metadata": {},
   "outputs": [
    {
     "name": "stdout",
     "output_type": "stream",
     "text": [
      "Quantas páginas de dados você deseja? 10\n"
     ]
    }
   ],
   "source": [
    "#Vamos limpar nossas listas usadas no exemplo anterior, pois os valores trazidos pelo loop serão outros\n",
    "\n",
    "nome = []\n",
    "preco = []\n",
    "variacao = []\n",
    "volume = []\n",
    "mercado = []\n",
    "\n",
    "paginas = int(input('Quantas páginas de dados você deseja? '))"
   ]
  },
  {
   "cell_type": "code",
   "execution_count": 16,
   "id": "5a403728",
   "metadata": {},
   "outputs": [],
   "source": [
    "#Agora vamos criar um looping para alterar os links de acordo com o padrão informado anteriormente:\n",
    "\n",
    "for i in range (1,(paginas + 1)):\n",
    "    #Vamos criar um link através do looping\n",
    "    website = 'https://www.coingecko.com/?page=' + str(i)\n",
    "    \n",
    "    #Agora vamos solicitar um request da página informada no website a cada iteração\n",
    "    response = requests.get(website)\n",
    "    \n",
    "    #Cada html deverá passar por um objeto soup\n",
    "    soup = bs(response.content, 'html.parser')\n",
    "    \n",
    "    #Os resultados do soup serão armazenados no results a cada iteração\n",
    "    results = soup.find('table', {'class': 'table-scrollable'}).find('tbody').find_all('tr')\n",
    "    \n",
    "    #Agora vamos acessar os valores das variáveis definidas anteriormente\n",
    "    #Para isso vamos fazer um looping a partir de da variável Results\n",
    "    \n",
    "    for result in results:\n",
    "    \n",
    "        #Nome\n",
    "        try:\n",
    "            nome.append(result.find('a', {'class': 'tw-hidden lg:tw-flex font-bold tw-items-center tw-justify-between'}).get_text().strip())\n",
    "        except:\n",
    "            nome.append('n/a')\n",
    "\n",
    "        #Preço\n",
    "        try:\n",
    "            preco.append(result.find('td', {'class': 'td-price price text-right pl-0'}).get_text().strip())\n",
    "        except:\n",
    "            preco.append('n/a')\n",
    "\n",
    "\n",
    "        #Variação\n",
    "        try:\n",
    "            variacao.append(result.find('td', {'class': 'td-change24h'}).get_text().strip())\n",
    "        except:\n",
    "            variacao.append('n/a')\n",
    "\n",
    "\n",
    "        #Volume\n",
    "        try:\n",
    "            volume.append(result.find('td', {'class': 'td-liquidity_score'}).get_text().strip())\n",
    "        except:\n",
    "            volume.append('n/a')        \n",
    "\n",
    "\n",
    "        #Valor de Mercado\n",
    "        try:\n",
    "            mercado.append(result.find('td', {'class': 'td-market_cap'}).get_text().strip())\n",
    "        except:\n",
    "            mercado.append('n/a')       "
   ]
  },
  {
   "cell_type": "code",
   "execution_count": 17,
   "id": "bce2b417",
   "metadata": {},
   "outputs": [],
   "source": [
    "#Com os dados em mão, vamos inserí-los a um dataframe, como fizemos anteriormente\n",
    "tabela_cripto = pd.DataFrame({'Criptoativo': nome, 'Preço': preco, 'Variação': variacao, 'Volume 24h': volume, 'MarketCap': mercado})"
   ]
  },
  {
   "cell_type": "code",
   "execution_count": 18,
   "id": "baaa4c75",
   "metadata": {},
   "outputs": [
    {
     "data": {
      "text/html": [
       "<div>\n",
       "<style scoped>\n",
       "    .dataframe tbody tr th:only-of-type {\n",
       "        vertical-align: middle;\n",
       "    }\n",
       "\n",
       "    .dataframe tbody tr th {\n",
       "        vertical-align: top;\n",
       "    }\n",
       "\n",
       "    .dataframe thead th {\n",
       "        text-align: right;\n",
       "    }\n",
       "</style>\n",
       "<table border=\"1\" class=\"dataframe\">\n",
       "  <thead>\n",
       "    <tr style=\"text-align: right;\">\n",
       "      <th></th>\n",
       "      <th>Criptoativo</th>\n",
       "      <th>Preço</th>\n",
       "      <th>Variação</th>\n",
       "      <th>Volume 24h</th>\n",
       "      <th>MarketCap</th>\n",
       "    </tr>\n",
       "  </thead>\n",
       "  <tbody>\n",
       "    <tr>\n",
       "      <th>0</th>\n",
       "      <td>Bitcoin</td>\n",
       "      <td>$39,478.98</td>\n",
       "      <td>1.1%</td>\n",
       "      <td>$15,137,780,565</td>\n",
       "      <td>$749,957,447,784</td>\n",
       "    </tr>\n",
       "    <tr>\n",
       "      <th>1</th>\n",
       "      <td>Ethereum</td>\n",
       "      <td>$2,671.04</td>\n",
       "      <td>2.1%</td>\n",
       "      <td>$8,793,532,792</td>\n",
       "      <td>$320,400,416,553</td>\n",
       "    </tr>\n",
       "    <tr>\n",
       "      <th>2</th>\n",
       "      <td>Tether</td>\n",
       "      <td>$1.00</td>\n",
       "      <td>0.1%</td>\n",
       "      <td>$40,917,828,572</td>\n",
       "      <td>$79,892,618,393</td>\n",
       "    </tr>\n",
       "    <tr>\n",
       "      <th>3</th>\n",
       "      <td>BNB</td>\n",
       "      <td>$384.93</td>\n",
       "      <td>2.5%</td>\n",
       "      <td>$1,231,753,041</td>\n",
       "      <td>$64,744,790,532</td>\n",
       "    </tr>\n",
       "    <tr>\n",
       "      <th>4</th>\n",
       "      <td>USD Coin</td>\n",
       "      <td>$1.00</td>\n",
       "      <td>-0.1%</td>\n",
       "      <td>$2,045,418,232</td>\n",
       "      <td>$52,992,471,954</td>\n",
       "    </tr>\n",
       "    <tr>\n",
       "      <th>...</th>\n",
       "      <td>...</td>\n",
       "      <td>...</td>\n",
       "      <td>...</td>\n",
       "      <td>...</td>\n",
       "      <td>...</td>\n",
       "    </tr>\n",
       "    <tr>\n",
       "      <th>995</th>\n",
       "      <td>Populous</td>\n",
       "      <td>$0.357759</td>\n",
       "      <td>11.6%</td>\n",
       "      <td>$296,263</td>\n",
       "      <td>$12,964,102</td>\n",
       "    </tr>\n",
       "    <tr>\n",
       "      <th>996</th>\n",
       "      <td>88mph</td>\n",
       "      <td>$28.24</td>\n",
       "      <td>-4.6%</td>\n",
       "      <td>$161,106</td>\n",
       "      <td>$12,959,426</td>\n",
       "    </tr>\n",
       "    <tr>\n",
       "      <th>997</th>\n",
       "      <td>Cindicator</td>\n",
       "      <td>$0.006317193380</td>\n",
       "      <td>131.5%</td>\n",
       "      <td>$14,490,168</td>\n",
       "      <td>$12,953,205</td>\n",
       "    </tr>\n",
       "    <tr>\n",
       "      <th>998</th>\n",
       "      <td>Birake</td>\n",
       "      <td>$0.122600</td>\n",
       "      <td>1.6%</td>\n",
       "      <td>$2,773.81</td>\n",
       "      <td>$12,946,212</td>\n",
       "    </tr>\n",
       "    <tr>\n",
       "      <th>999</th>\n",
       "      <td>Netswap</td>\n",
       "      <td>$2.80</td>\n",
       "      <td>4.3%</td>\n",
       "      <td>$788,948</td>\n",
       "      <td>$12,898,844</td>\n",
       "    </tr>\n",
       "  </tbody>\n",
       "</table>\n",
       "<p>1000 rows × 5 columns</p>\n",
       "</div>"
      ],
      "text/plain": [
       "    Criptoativo            Preço Variação       Volume 24h         MarketCap\n",
       "0       Bitcoin       $39,478.98     1.1%  $15,137,780,565  $749,957,447,784\n",
       "1      Ethereum        $2,671.04     2.1%   $8,793,532,792  $320,400,416,553\n",
       "2        Tether            $1.00     0.1%  $40,917,828,572   $79,892,618,393\n",
       "3           BNB          $384.93     2.5%   $1,231,753,041   $64,744,790,532\n",
       "4      USD Coin            $1.00    -0.1%   $2,045,418,232   $52,992,471,954\n",
       "..          ...              ...      ...              ...               ...\n",
       "995    Populous        $0.357759    11.6%         $296,263       $12,964,102\n",
       "996       88mph           $28.24    -4.6%         $161,106       $12,959,426\n",
       "997  Cindicator  $0.006317193380   131.5%      $14,490,168       $12,953,205\n",
       "998      Birake        $0.122600     1.6%        $2,773.81       $12,946,212\n",
       "999     Netswap            $2.80     4.3%         $788,948       $12,898,844\n",
       "\n",
       "[1000 rows x 5 columns]"
      ]
     },
     "metadata": {},
     "output_type": "display_data"
    }
   ],
   "source": [
    "display(tabela_cripto)"
   ]
  },
  {
   "cell_type": "markdown",
   "id": "d139b494",
   "metadata": {},
   "source": [
    "### Rodei o programa e coloquei 10 páginas para obter dados, e o dataframe ficou com 1000 registros.\n",
    "#### A quantidade de páginas pode ser facilmente alterada algumas células acima\n",
    "\n",
    "Por fim, vamos salvar os resultados numa pasta do Excel"
   ]
  },
  {
   "cell_type": "code",
   "execution_count": 19,
   "id": "5e8262f0",
   "metadata": {},
   "outputs": [],
   "source": [
    "tabela_cripto.to_excel('Varias_paginas.xlsx', index = False)"
   ]
  }
 ],
 "metadata": {
  "kernelspec": {
   "display_name": "Python 3",
   "language": "python",
   "name": "python3"
  },
  "language_info": {
   "codemirror_mode": {
    "name": "ipython",
    "version": 3
   },
   "file_extension": ".py",
   "mimetype": "text/x-python",
   "name": "python",
   "nbconvert_exporter": "python",
   "pygments_lexer": "ipython3",
   "version": "3.8.8"
  }
 },
 "nbformat": 4,
 "nbformat_minor": 5
}
