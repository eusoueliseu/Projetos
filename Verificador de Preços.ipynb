{
 "cells": [
  {
   "cell_type": "markdown",
   "id": "8efafec6",
   "metadata": {},
   "source": [
    "## Webscraping Americanas\n",
    "\n",
    "O objetivo deste projeto é trazer uma série de infos relevantes do site americanas, com base numa lista de links de produtos\n",
    "\n",
    "As informações trazidas pelo script:\n",
    "- nome do cadastros\n",
    "- preço\n",
    "- se o produto é candidato a buy box\n",
    "- o nome da loja vendedora\n",
    "\n",
    "O script finaliza criando um arquivo XLSX com todos os dados coletados"
   ]
  },
  {
   "cell_type": "code",
   "execution_count": 1,
   "id": "d0008aa7",
   "metadata": {},
   "outputs": [
    {
     "name": "stderr",
     "output_type": "stream",
     "text": [
      "<ipython-input-1-6cc6b4eed421>:16: TqdmDeprecationWarning: This function will be removed in tqdm==5.0.0\n",
      "Please use `tqdm.notebook.tqdm` instead of `tqdm.tqdm_notebook`\n",
      "  for i in tqdm(range (0,(len(links)))):\n"
     ]
    },
    {
     "data": {
      "application/vnd.jupyter.widget-view+json": {
       "model_id": "4167c2098261413e8c3123460c7d0a5c",
       "version_major": 2,
       "version_minor": 0
      },
      "text/plain": [
       "HBox(children=(HTML(value=''), FloatProgress(value=0.0, max=5.0), HTML(value='')))"
      ]
     },
     "metadata": {},
     "output_type": "display_data"
    },
    {
     "name": "stdout",
     "output_type": "stream",
     "text": [
      "\n"
     ]
    }
   ],
   "source": [
    "from requests_html import HTMLSession\n",
    "import pandas as pd\n",
    "session = HTMLSession()\n",
    "from tqdm import tqdm_notebook as tqdm\n",
    "\n",
    "links = pd.read_csv('produtos.csv')\n",
    "\n",
    "nome = []\n",
    "preco = []\n",
    "url = []\n",
    "acompanhamento = []\n",
    "cadidato_buybox = []\n",
    "dono_buybox = []\n",
    "\n",
    "\n",
    "for i in tqdm(range (0,(len(links)))):\n",
    "    link = links['links'][i]\n",
    "    r = session.get(link)\n",
    "    \n",
    "    #nome\n",
    "    try:\n",
    "        nome.append(r.html.find('.product-title__Title-sc-1hlrxcw-0', first=True).text)\n",
    "    except:\n",
    "        nome.append('n/a')\n",
    "        \n",
    "        \n",
    "    #preco\n",
    "    try:\n",
    "        preco.append(r.html.find('.priceSales', first=True).text)\n",
    "    except:\n",
    "        preco.append('n/a')\n",
    "        \n",
    "        \n",
    "    #link\n",
    "    url.append(links['links'][i])\n",
    "\n",
    "    \n",
    "    #Buy Box\n",
    "    try:\n",
    "        cadidato_buybox.append(r.html.find('.more-offers__Text-sc-15yqej3-0', first=True).text)\n",
    "    except:\n",
    "        cadidato_buybox.append('Não')\n",
    "        \n",
    "    \n",
    "    #Dono Buy Box\n",
    "    try:\n",
    "        dono_buybox.append(r.html.find('.offers-box__Wrapper-sc-189v1x3-0', first=True).text.split(',')[0].split('.')[0])\n",
    "    except:\n",
    "        dono_buybox.append('n/a')\n",
    "    \n",
    "acompanhamento = pd.DataFrame({'Nome': nome, 'Preço': preco, 'Link': url, 'Candidato Buybox': cadidato_buybox, 'Dono Buybox': dono_buybox})\n",
    "acompanhamento.to_excel('Acompanhamento.xlsx', index=False)"
   ]
  }
 ],
 "metadata": {
  "kernelspec": {
   "display_name": "Python 3",
   "language": "python",
   "name": "python3"
  },
  "language_info": {
   "codemirror_mode": {
    "name": "ipython",
    "version": 3
   },
   "file_extension": ".py",
   "mimetype": "text/x-python",
   "name": "python",
   "nbconvert_exporter": "python",
   "pygments_lexer": "ipython3",
   "version": "3.8.8"
  }
 },
 "nbformat": 4,
 "nbformat_minor": 5
}
