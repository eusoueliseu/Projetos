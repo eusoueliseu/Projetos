{
 "cells": [
  {
   "cell_type": "markdown",
   "id": "54491f90-a9b7-4fc9-983c-2ffed5c38df8",
   "metadata": {},
   "source": [
    "### Clusterizando clientes"
   ]
  },
  {
   "cell_type": "code",
   "execution_count": 28,
   "id": "74b0be2c-1c1c-4cdd-a139-f0411eed5e76",
   "metadata": {},
   "outputs": [],
   "source": [
    "#Carregando bibliotecas\n",
    "import pandas as pd\n",
    "from sklearn.cluster import KMeans\n",
    "\n",
    "#Lendo bases de dados:\n",
    "pedidos = pd.read_csv(r'C:\\Users\\elise\\OneDrive\\Área de Trabalho\\olist\\olist_orders_dataset.csv')\n",
    "clientes = pd.read_csv(r'C:\\Users\\elise\\OneDrive\\Área de Trabalho\\olist\\olist_customers_dataset.csv')\n",
    "itens = pd.read_csv(r'C:\\Users\\elise\\OneDrive\\Área de Trabalho\\olist\\olist_order_items_dataset.csv')\n",
    "produtos = pd.read_csv(r'C:\\Users\\elise\\OneDrive\\Área de Trabalho\\olist\\olist_products_dataset.csv')"
   ]
  },
  {
   "cell_type": "markdown",
   "id": "f2cbc881-7269-4e60-9aae-98571c1b23ea",
   "metadata": {},
   "source": [
    "### Vamos agrupar dados relevantes das nossas bases de dados"
   ]
  },
  {
   "cell_type": "code",
   "execution_count": 29,
   "id": "a164126f-3e7c-4b71-901c-0e604ea6ad05",
   "metadata": {},
   "outputs": [],
   "source": [
    "#Temos diversas informações espalhadas pelas bases de dados. A ideia é compilar as informações e consultá-las de forma mais rápida\n",
    "pedidos_clientes = pedidos.merge(on = 'customer_id', right = clientes)[['order_id', 'customer_id', 'customer_unique_id', 'customer_city', 'customer_state']]\n",
    "pedidos_clientes = pedidos_clientes.merge(on = 'order_id', right = itens)[['order_id', 'customer_id', 'customer_unique_id', 'customer_city', 'customer_state', 'product_id', 'price', 'freight_value']]\n",
    "pedidos_clientes = pedidos_clientes.merge(on = 'product_id', right = produtos)[['order_id', 'customer_unique_id', 'customer_city', 'customer_state', 'product_id', 'price', 'freight_value', 'product_category_name']]"
   ]
  },
  {
   "cell_type": "code",
   "execution_count": 30,
   "id": "95c54b6d-1d10-4f11-9bec-aea497a9c3ec",
   "metadata": {},
   "outputs": [],
   "source": [
    "#Vamos começar a manipular a base de pedidos para aplicar o algoritmo\n",
    "gasto_cliente = pedidos_clientes.groupby('customer_unique_id')['price'].sum()\n",
    "clientes_id = gasto_cliente.reset_index()['customer_unique_id'].copy()\n",
    "gasto_cliente = gasto_cliente.values.reshape(-1, 1)\n",
    "gasto_cliente = pd.DataFrame(gasto_cliente, columns = ['price'])"
   ]
  },
  {
   "cell_type": "code",
   "execution_count": 31,
   "id": "e1038935-ef67-425f-b77e-36ecfebddb84",
   "metadata": {},
   "outputs": [],
   "source": [
    "#Fazendo as classificações\n",
    "kmeans = KMeans(n_clusters=5, random_state=42)\n",
    "kmeans.fit(gasto_cliente)\n",
    "\n",
    "# Determinando os clusters e inserindo na tabela\n",
    "gasto_cliente['cluster'] = kmeans.labels_\n",
    "\n",
    "gasto_cliente['customer_unique_id'] = clientes_id.copy()\n",
    "gasto_cliente = gasto_cliente[['customer_unique_id', 'price', 'cluster']]"
   ]
  },
  {
   "cell_type": "markdown",
   "id": "e56839dc-d458-4339-8be4-22e1ee62a591",
   "metadata": {},
   "source": [
    "### Vamos explorar nossos dados em função dos agrupamentos"
   ]
  },
  {
   "cell_type": "code",
   "execution_count": 32,
   "id": "90a2bf04-4707-41c5-8ad8-08710720701f",
   "metadata": {},
   "outputs": [
    {
     "data": {
      "text/plain": [
       "<AxesSubplot:title={'center':'Receita média por Cliente'}, xlabel='cluster'>"
      ]
     },
     "execution_count": 32,
     "metadata": {},
     "output_type": "execute_result"
    },
    {
     "data": {
      "image/png": "[encoded data removed]",
      "text/plain": [
       "<Figure size 432x288 with 1 Axes>"
      ]
     },
     "metadata": {
      "needs_background": "light"
     },
     "output_type": "display_data"
    }
   ],
   "source": [
    "#Aqui temos a média de Receita para cada cluster\n",
    "#Podemos perceber que o grupo com maior receita média por cliente é o Cluster 2\n",
    "pd.DataFrame(round(gasto_cliente.groupby('cluster')['price'].mean(), 2)).plot(kind = 'bar', title = 'Receita média por Cliente')"
   ]
  },
  {
   "cell_type": "code",
   "execution_count": 33,
   "id": "7f917735-0d11-4524-a9c5-c3cbae05abea",
   "metadata": {},
   "outputs": [
    {
     "data": {
      "text/plain": [
       "<AxesSubplot:title={'center':'Receita total por Cluster'}, xlabel='cluster'>"
      ]
     },
     "execution_count": 33,
     "metadata": {},
     "output_type": "execute_result"
    },
    {
     "data": {
      "image/png": "[encoded data removed]",
      "text/plain": [
       "<Figure size 432x288 with 1 Axes>"
      ]
     },
     "metadata": {
      "needs_background": "light"
     },
     "output_type": "display_data"
    }
   ],
   "source": [
    "pd.DataFrame(round(gasto_cliente.groupby('cluster')['price'].sum(), 2)).plot(kind = 'bar', title = 'Receita total por Cluster')"
   ]
  },
  {
   "cell_type": "code",
   "execution_count": 34,
   "id": "ba731b37-7e95-4c50-8aa8-83ddc2fff85e",
   "metadata": {},
   "outputs": [],
   "source": [
    "resumo = gasto_cliente.groupby('cluster')['price'].sum().reset_index()\n",
    "resumo = resumo.rename({'price': 'Receita'}, axis = 1)\n",
    "resumo = resumo.merge(right = gasto_cliente.groupby('cluster').count().reset_index(), on = 'cluster').drop(columns = 'price').rename({'customer_unique_id': 'Qnt_Clientes'}, axis = 1)\n",
    "resumo['Média'] = round(resumo.Receita / resumo.Qnt_Clientes, 2)"
   ]
  },
  {
   "cell_type": "code",
   "execution_count": 35,
   "id": "603f92d5-052c-4b58-8ec4-6931e2a538fc",
   "metadata": {},
   "outputs": [
    {
     "data": {
      "text/plain": [
       "<AxesSubplot:ylabel='Qnt_Clientes'>"
      ]
     },
     "execution_count": 35,
     "metadata": {},
     "output_type": "execute_result"
    },
    {
     "data": {
      "image/png": "[encoded data removed]",
      "text/plain": [
       "<Figure size 432x288 with 1 Axes>"
      ]
     },
     "metadata": {
      "needs_background": "light"
     },
     "output_type": "display_data"
    }
   ],
   "source": [
    "resumo.plot(y = 'Qnt_Clientes', kind = 'bar', ylabel = 'Qnt_Clientes')"
   ]
  },
  {
   "cell_type": "code",
   "execution_count": 36,
   "id": "1c15d36a-7883-4930-8d23-26f7dee68a76",
   "metadata": {
    "tags": []
   },
   "outputs": [
    {
     "data": {
      "text/html": [
       "<div>\n",
       "<style scoped>\n",
       "    .dataframe tbody tr th:only-of-type {\n",
       "        vertical-align: middle;\n",
       "    }\n",
       "\n",
       "    .dataframe tbody tr th {\n",
       "        vertical-align: top;\n",
       "    }\n",
       "\n",
       "    .dataframe thead th {\n",
       "        text-align: right;\n",
       "    }\n",
       "</style>\n",
       "<table border=\"1\" class=\"dataframe\">\n",
       "  <thead>\n",
       "    <tr style=\"text-align: right;\">\n",
       "      <th></th>\n",
       "      <th>cluster</th>\n",
       "      <th>Receita</th>\n",
       "      <th>Qnt_Clientes</th>\n",
       "      <th>Média</th>\n",
       "      <th>% Clientes</th>\n",
       "      <th>% Receita</th>\n",
       "    </tr>\n",
       "  </thead>\n",
       "  <tbody>\n",
       "    <tr>\n",
       "      <th>0</th>\n",
       "      <td>0</td>\n",
       "      <td>5334526.25</td>\n",
       "      <td>73191</td>\n",
       "      <td>72.89</td>\n",
       "      <td>76.7%</td>\n",
       "      <td>39.25%</td>\n",
       "    </tr>\n",
       "    <tr>\n",
       "      <th>1</th>\n",
       "      <td>1</td>\n",
       "      <td>1136528.76</td>\n",
       "      <td>731</td>\n",
       "      <td>1554.76</td>\n",
       "      <td>0.77%</td>\n",
       "      <td>8.36%</td>\n",
       "    </tr>\n",
       "    <tr>\n",
       "      <th>2</th>\n",
       "      <td>2</td>\n",
       "      <td>267863.75</td>\n",
       "      <td>73</td>\n",
       "      <td>3669.37</td>\n",
       "      <td>0.08%</td>\n",
       "      <td>1.97%</td>\n",
       "    </tr>\n",
       "    <tr>\n",
       "      <th>3</th>\n",
       "      <td>3</td>\n",
       "      <td>4535384.71</td>\n",
       "      <td>18029</td>\n",
       "      <td>251.56</td>\n",
       "      <td>18.89%</td>\n",
       "      <td>33.37%</td>\n",
       "    </tr>\n",
       "    <tr>\n",
       "      <th>4</th>\n",
       "      <td>4</td>\n",
       "      <td>2317340.23</td>\n",
       "      <td>3396</td>\n",
       "      <td>682.37</td>\n",
       "      <td>3.56%</td>\n",
       "      <td>17.05%</td>\n",
       "    </tr>\n",
       "  </tbody>\n",
       "</table>\n",
       "</div>"
      ],
      "text/plain": [
       "   cluster     Receita  Qnt_Clientes    Média % Clientes % Receita\n",
       "0        0  5334526.25         73191    72.89      76.7%    39.25%\n",
       "1        1  1136528.76           731  1554.76      0.77%     8.36%\n",
       "2        2   267863.75            73  3669.37      0.08%     1.97%\n",
       "3        3  4535384.71         18029   251.56     18.89%    33.37%\n",
       "4        4  2317340.23          3396   682.37      3.56%    17.05%"
      ]
     },
     "execution_count": 36,
     "metadata": {},
     "output_type": "execute_result"
    }
   ],
   "source": [
    "percentual = []\n",
    "for i in range(0, len(resumo)):\n",
    "    percentual.append(str(round(resumo.Qnt_Clientes[i]/resumo.Qnt_Clientes.sum()*100,2)) + '%')\n",
    "resumo['% Clientes'] = percentual\n",
    "    \n",
    "percentual = []\n",
    "for i in range(0, len(resumo)):\n",
    "    percentual.append(str(round(resumo.Receita[i]/resumo.Receita.sum()*100,2)) + '%')\n",
    "resumo['% Receita'] = percentual\n",
    "\n",
    "resumo"
   ]
  }
 ],
 "metadata": {
  "kernelspec": {
   "display_name": "Python 3 (ipykernel)",
   "language": "python",
   "name": "python3"
  },
  "language_info": {
   "codemirror_mode": {
    "name": "ipython",
    "version": 3
   },
   "file_extension": ".py",
   "mimetype": "text/x-python",
   "name": "python",
   "nbconvert_exporter": "python",
   "pygments_lexer": "ipython3",
   "version": "3.9.12"
  }
 },
 "nbformat": 4,
 "nbformat_minor": 5
}
