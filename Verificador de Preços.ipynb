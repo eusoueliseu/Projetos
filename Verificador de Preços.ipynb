{
 "cells": [
  {
   "cell_type": "markdown",
   "id": "8efafec6",
   "metadata": {},
   "source": [
    "## Webscraping Americanas\n",
    "\n",
    "O objetivo deste projeto é trazer uma série de infos relevantes do site americanas, com base numa lista de links de produtos\n",
    "\n",
    "As informações trazidas pelo script:\n",
    "- nome do cadastros\n",
    "- preço\n",
    "- se o produto é candidato a buy box\n",
    "- o nome da loja vendedora\n",
    "\n",
    "O script finaliza criando um arquivo XLSX com todos os dados coletados"
   ]
  },
  {
   "cell_type": "code",
   "execution_count": 4,
   "id": "d0008aa7",
   "metadata": {},
   "outputs": [
    {
     "data": {
      "application/vnd.jupyter.widget-view+json": {
       "model_id": "9065e930e6ee4e649a92d451e873af9f",
       "version_major": 2,
       "version_minor": 0
      },
      "text/plain": [
       "HBox(children=(HTML(value=''), FloatProgress(value=0.0, max=5.0), HTML(value='')))"
      ]
     },
     "metadata": {},
     "output_type": "display_data"
    },
    {
     "name": "stdout",
     "output_type": "stream",
     "text": [
      "\n"
     ]
    }
   ],
   "source": [
    "#Importando bibliotecas\n",
    "from requests_html import HTMLSession\n",
    "import pandas as pd\n",
    "session = HTMLSession()\n",
    "from tqdm import tqdm_notebook as tqdm\n",
    "import warnings\n",
    "warnings.filterwarnings(action = 'ignore')\n",
    "\n",
    "\n",
    "#Carregando o arquivo\n",
    "links = pd.read_csv('produtos.csv')\n",
    "\n",
    "\n",
    "#Criando as variáveis a ser preenchidas durante scraping\n",
    "nome = []\n",
    "preco = []\n",
    "url = []\n",
    "acompanhamento = []\n",
    "cadidato_buybox = []\n",
    "dono_buybox = []\n",
    "\n",
    "\n",
    "#Loop das infos. Basicamente o loop pega cada um dos links e roda o algoritmo de consulta as infos.\n",
    "#Depois ele vai para o próximo link, assim por diante. Até que terminem os links\n",
    "for i in tqdm(range (0,(len(links)))):\n",
    "    link = links['links'][i]\n",
    "    r = session.get(link)\n",
    "    \n",
    "    #nome\n",
    "    try:\n",
    "        nome.append(r.html.find('.product-title__Title-sc-1hlrxcw-0', first=True).text)\n",
    "    except:\n",
    "        nome.append('n/a')\n",
    "        \n",
    "        \n",
    "    #preco\n",
    "    try:\n",
    "        preco.append(r.html.find('.priceSales', first=True).text)\n",
    "    except:\n",
    "        preco.append('n/a')\n",
    "        \n",
    "        \n",
    "    #link\n",
    "    url.append(links['links'][i])\n",
    "\n",
    "    \n",
    "    #Buy Box\n",
    "    try:\n",
    "        cadidato_buybox.append(r.html.find('.more-offers__Text-sc-15yqej3-0', first=True).text)\n",
    "    except:\n",
    "        cadidato_buybox.append('Não')\n",
    "        \n",
    "    \n",
    "    #Dono Buy Box\n",
    "    try:\n",
    "        dono_buybox.append(r.html.find('.offers-box__Wrapper-sc-189v1x3-0', first=True).text.split(',')[0].split('.')[0])\n",
    "    except:\n",
    "        dono_buybox.append('n/a')\n",
    "    \n",
    "    \n",
    "#Por fim o algoritmo compila todos os dados coletados num único arquivo\n",
    "acompanhamento = pd.DataFrame({'Nome': nome, 'Preço': preco, 'Link': url, 'Candidato Buybox': cadidato_buybox, 'Dono Buybox': dono_buybox})\n",
    "acompanhamento.to_excel('Acompanhamento.xlsx', index=False)"
   ]
  },
  {
   "cell_type": "markdown",
   "id": "12e34614",
   "metadata": {},
   "source": [
    "## Basicamente a planilha ficará desta forma:"
   ]
  },
  {
   "cell_type": "code",
   "execution_count": 5,
   "id": "206646d1",
   "metadata": {
    "scrolled": true
   },
   "outputs": [
    {
     "data": {
      "text/html": [
       "<div>\n",
       "<style scoped>\n",
       "    .dataframe tbody tr th:only-of-type {\n",
       "        vertical-align: middle;\n",
       "    }\n",
       "\n",
       "    .dataframe tbody tr th {\n",
       "        vertical-align: top;\n",
       "    }\n",
       "\n",
       "    .dataframe thead th {\n",
       "        text-align: right;\n",
       "    }\n",
       "</style>\n",
       "<table border=\"1\" class=\"dataframe\">\n",
       "  <thead>\n",
       "    <tr style=\"text-align: right;\">\n",
       "      <th></th>\n",
       "      <th>Nome</th>\n",
       "      <th>Preço</th>\n",
       "      <th>Link</th>\n",
       "      <th>Candidato Buybox</th>\n",
       "      <th>Dono Buybox</th>\n",
       "    </tr>\n",
       "  </thead>\n",
       "  <tbody>\n",
       "    <tr>\n",
       "      <th>0</th>\n",
       "      <td>Jogo de Xícaras de Café Empilhável 40763 - Bon...</td>\n",
       "      <td>R$ 99,90</td>\n",
       "      <td>https://www.americanas.com.br/produto/1507033611</td>\n",
       "      <td>5 outras ofertas deste mesmo produto</td>\n",
       "      <td>Este produto é vendido e entregue por Mezzanine</td>\n",
       "    </tr>\n",
       "    <tr>\n",
       "      <th>1</th>\n",
       "      <td>Jogo de Xícaras para Café em Porcelana Lina - ...</td>\n",
       "      <td>n/a</td>\n",
       "      <td>https://www.americanas.com.br/produto/3057463858</td>\n",
       "      <td>Não</td>\n",
       "      <td>n/a</td>\n",
       "    </tr>\n",
       "    <tr>\n",
       "      <th>2</th>\n",
       "      <td>Prato para Bolo com Tampa Libra - 33X30,5cm</td>\n",
       "      <td>R$ 474,90</td>\n",
       "      <td>https://www.americanas.com.br/produto/4051014701</td>\n",
       "      <td>Não</td>\n",
       "      <td>Este produto é vendido e entregue por Mezzanine</td>\n",
       "    </tr>\n",
       "    <tr>\n",
       "      <th>3</th>\n",
       "      <td>Jogo de Tábua e Espátula Abacaxi - Prateado - ...</td>\n",
       "      <td>n/a</td>\n",
       "      <td>https://www.americanas.com.br/produto/1648420788</td>\n",
       "      <td>Não</td>\n",
       "      <td>n/a</td>\n",
       "    </tr>\n",
       "    <tr>\n",
       "      <th>4</th>\n",
       "      <td>Cj 7 pc p/tempero de vidro c/tampa de plástico...</td>\n",
       "      <td>R$ 89,90</td>\n",
       "      <td>https://www.americanas.com.br/produto/165824868</td>\n",
       "      <td>1 outras ofertas deste mesmo produto</td>\n",
       "      <td>Este produto é vendido e entregue por Mezzanine</td>\n",
       "    </tr>\n",
       "  </tbody>\n",
       "</table>\n",
       "</div>"
      ],
      "text/plain": [
       "                                                Nome      Preço  \\\n",
       "0  Jogo de Xícaras de Café Empilhável 40763 - Bon...   R$ 99,90   \n",
       "1  Jogo de Xícaras para Café em Porcelana Lina - ...        n/a   \n",
       "2        Prato para Bolo com Tampa Libra - 33X30,5cm  R$ 474,90   \n",
       "3  Jogo de Tábua e Espátula Abacaxi - Prateado - ...        n/a   \n",
       "4  Cj 7 pc p/tempero de vidro c/tampa de plástico...   R$ 89,90   \n",
       "\n",
       "                                               Link  \\\n",
       "0  https://www.americanas.com.br/produto/1507033611   \n",
       "1  https://www.americanas.com.br/produto/3057463858   \n",
       "2  https://www.americanas.com.br/produto/4051014701   \n",
       "3  https://www.americanas.com.br/produto/1648420788   \n",
       "4   https://www.americanas.com.br/produto/165824868   \n",
       "\n",
       "                       Candidato Buybox  \\\n",
       "0  5 outras ofertas deste mesmo produto   \n",
       "1                                   Não   \n",
       "2                                   Não   \n",
       "3                                   Não   \n",
       "4  1 outras ofertas deste mesmo produto   \n",
       "\n",
       "                                       Dono Buybox  \n",
       "0  Este produto é vendido e entregue por Mezzanine  \n",
       "1                                              n/a  \n",
       "2  Este produto é vendido e entregue por Mezzanine  \n",
       "3                                              n/a  \n",
       "4  Este produto é vendido e entregue por Mezzanine  "
      ]
     },
     "execution_count": 5,
     "metadata": {},
     "output_type": "execute_result"
    }
   ],
   "source": [
    "acompanhamento.head()"
   ]
  }
 ],
 "metadata": {
  "kernelspec": {
   "display_name": "Python 3",
   "language": "python",
   "name": "python3"
  },
  "language_info": {
   "codemirror_mode": {
    "name": "ipython",
    "version": 3
   },
   "file_extension": ".py",
   "mimetype": "text/x-python",
   "name": "python",
   "nbconvert_exporter": "python",
   "pygments_lexer": "ipython3",
   "version": "3.8.8"
  }
 },
 "nbformat": 4,
 "nbformat_minor": 5
}
