{
 "cells": [
  {
   "cell_type": "code",
   "execution_count": 1,
   "id": "88bc692d",
   "metadata": {},
   "outputs": [],
   "source": [
    "from bs4 import BeautifulSoup as bs\n",
    "import requests\n",
    "import pandas as pd"
   ]
  },
  {
   "cell_type": "code",
   "execution_count": 2,
   "id": "bc24d8b7",
   "metadata": {},
   "outputs": [],
   "source": [
    "website = 'https://www.coingecko.com'"
   ]
  },
  {
   "cell_type": "code",
   "execution_count": 3,
   "id": "db288b13",
   "metadata": {},
   "outputs": [],
   "source": [
    "response = requests.get(website)"
   ]
  },
  {
   "cell_type": "code",
   "execution_count": 4,
   "id": "7e0d8fc8",
   "metadata": {},
   "outputs": [],
   "source": [
    "soup = bs(response.content, 'html.parser')"
   ]
  },
  {
   "cell_type": "code",
   "execution_count": 5,
   "id": "1bd7db25",
   "metadata": {},
   "outputs": [],
   "source": [
    "results = soup.find('table', {'class':'table-scrollable'}).find('tbody').find_all('tr')"
   ]
  },
  {
   "cell_type": "markdown",
   "id": "ec3e36d1",
   "metadata": {},
   "source": [
    "### Nome"
   ]
  },
  {
   "cell_type": "code",
   "execution_count": 6,
   "id": "b49b09c4",
   "metadata": {},
   "outputs": [
    {
     "data": {
      "text/plain": [
       "'Bitcoin'"
      ]
     },
     "execution_count": 6,
     "metadata": {},
     "output_type": "execute_result"
    }
   ],
   "source": [
    "#Vamos pegar o nome do primeiro ativo\n",
    "results[0].find('a', {'class': 'tw-hidden lg:tw-flex font-bold tw-items-center tw-justify-between'}).get_text().strip()"
   ]
  },
  {
   "cell_type": "markdown",
   "id": "a057c64c",
   "metadata": {},
   "source": [
    "### Preço"
   ]
  },
  {
   "cell_type": "code",
   "execution_count": 7,
   "id": "3610f065",
   "metadata": {},
   "outputs": [
    {
     "data": {
      "text/plain": [
       "'$39,588.45'"
      ]
     },
     "execution_count": 7,
     "metadata": {},
     "output_type": "execute_result"
    }
   ],
   "source": [
    "#Vamos acessar o preço do primeiro ativo\n",
    "\n",
    "results[0].find('td', {'class': 'td-price price text-right pl-0'}).get_text().strip()"
   ]
  },
  {
   "cell_type": "markdown",
   "id": "99821d18",
   "metadata": {},
   "source": [
    "### Variação 24h"
   ]
  },
  {
   "cell_type": "code",
   "execution_count": 8,
   "id": "2971a760",
   "metadata": {},
   "outputs": [
    {
     "data": {
      "text/plain": [
       "'-0.0%'"
      ]
     },
     "execution_count": 8,
     "metadata": {},
     "output_type": "execute_result"
    }
   ],
   "source": [
    "#Esta é a variação do ativo nas últimas 24h\n",
    "\n",
    "results[0].find('td', {'class': 'td-change24h'}).get_text().strip()"
   ]
  },
  {
   "cell_type": "markdown",
   "id": "bc0010fd",
   "metadata": {},
   "source": [
    "### Volume 24h"
   ]
  },
  {
   "cell_type": "code",
   "execution_count": 9,
   "id": "718bbc68",
   "metadata": {},
   "outputs": [
    {
     "data": {
      "text/plain": [
       "'$16,019,115,909'"
      ]
     },
     "execution_count": 9,
     "metadata": {},
     "output_type": "execute_result"
    }
   ],
   "source": [
    "#Este é o volume negociado no ativo nas últimas 24h\n",
    "\n",
    "results[0].find('td', {'class': 'td-liquidity_score'}).get_text().strip()"
   ]
  },
  {
   "cell_type": "markdown",
   "id": "6f354fbc",
   "metadata": {},
   "source": [
    "### Valor de Mercado"
   ]
  },
  {
   "cell_type": "code",
   "execution_count": 10,
   "id": "c693de9e",
   "metadata": {},
   "outputs": [
    {
     "data": {
      "text/plain": [
       "'$751,202,478,749'"
      ]
     },
     "execution_count": 10,
     "metadata": {},
     "output_type": "execute_result"
    }
   ],
   "source": [
    "#Agora vamos acessar valor de mercado total do primeiro ativo\n",
    "\n",
    "results[0].find('td', {'class': 'td-market_cap'}).get_text().strip()"
   ]
  },
  {
   "cell_type": "markdown",
   "id": "835839c1",
   "metadata": {},
   "source": [
    "## Loop para coletar dados de todas as linhas\n",
    "Como coletamos os resultados apenas do primeiro ativo, precisamos requisitar as infos dos outros\n"
   ]
  },
  {
   "cell_type": "code",
   "execution_count": 11,
   "id": "df7ce7aa",
   "metadata": {},
   "outputs": [],
   "source": [
    "#Vamos começar criando listas vazias para preencher com os valores que desejamos\n",
    "\n",
    "nome = []\n",
    "preco = []\n",
    "variacao = []\n",
    "volume = []\n",
    "mercado = []"
   ]
  },
  {
   "cell_type": "code",
   "execution_count": 12,
   "id": "4322bee9",
   "metadata": {},
   "outputs": [],
   "source": [
    "#Vamos criar o loop para coletar os nomes unitariamente\n",
    "\n",
    "for result in results:\n",
    "    \n",
    "    #nome\n",
    "    try:\n",
    "        nome.append(result.find('a', {'class': 'tw-hidden lg:tw-flex font-bold tw-items-center tw-justify-between'}).get_text().strip())\n",
    "    except:\n",
    "        nome.append('n/a')"
   ]
  },
  {
   "cell_type": "code",
   "execution_count": 13,
   "id": "acaab3d1",
   "metadata": {},
   "outputs": [],
   "source": [
    "#Agora que temos um loop para os nomes, vamos criar um loop para cada uma das outras informações necessárias\n",
    "\n",
    "for result in results:\n",
    "    \n",
    "    #preço\n",
    "    try:\n",
    "        preco.append(result.find('td', {'class': 'td-price price text-right pl-0'}).get_text().strip())\n",
    "    except:\n",
    "        preco.append('n/a')\n",
    "        \n",
    "        \n",
    "    #Variação\n",
    "    try:\n",
    "        variacao.append(result.find('td', {'class': 'td-change24h'}).get_text().strip())\n",
    "    except:\n",
    "        variacao.append('n/a')\n",
    "            \n",
    "            \n",
    "    #Volume\n",
    "    try:\n",
    "        volume.append(result.find('td', {'class': 'td-liquidity_score'}).get_text().strip())\n",
    "    except:\n",
    "        volume.append('n/a')        \n",
    "     \n",
    "    \n",
    "    #Valor de Mercado\n",
    "    try:\n",
    "        mercado.append(result.find('td', {'class': 'td-market_cap'}).get_text().strip())\n",
    "    except:\n",
    "        mercado.append('n/a')       "
   ]
  },
  {
   "cell_type": "markdown",
   "id": "85476fed",
   "metadata": {},
   "source": [
    "## Listando os valores num mesmo objeto"
   ]
  },
  {
   "cell_type": "code",
   "execution_count": 19,
   "id": "f093ab0c",
   "metadata": {},
   "outputs": [],
   "source": [
    "#Vamos criar um Pandas dataframe para armazenar os campos coletados no scrapping\n",
    "\n",
    "tabela_cripto = pd.DataFrame({'Criptoativo': nome, 'Preço': preco, 'Variação': variacao, 'Volume 24h': volume, 'MarketCap': mercado})"
   ]
  },
  {
   "cell_type": "markdown",
   "id": "8cc696af",
   "metadata": {},
   "source": [
    "## Vamos olhar a tabela pronta"
   ]
  },
  {
   "cell_type": "code",
   "execution_count": 21,
   "id": "3a272cda",
   "metadata": {},
   "outputs": [
    {
     "data": {
      "text/html": [
       "<div>\n",
       "<style scoped>\n",
       "    .dataframe tbody tr th:only-of-type {\n",
       "        vertical-align: middle;\n",
       "    }\n",
       "\n",
       "    .dataframe tbody tr th {\n",
       "        vertical-align: top;\n",
       "    }\n",
       "\n",
       "    .dataframe thead th {\n",
       "        text-align: right;\n",
       "    }\n",
       "</style>\n",
       "<table border=\"1\" class=\"dataframe\">\n",
       "  <thead>\n",
       "    <tr style=\"text-align: right;\">\n",
       "      <th></th>\n",
       "      <th>Criptoativo</th>\n",
       "      <th>Preço</th>\n",
       "      <th>Variação</th>\n",
       "      <th>Volume 24h</th>\n",
       "      <th>MarketCap</th>\n",
       "    </tr>\n",
       "  </thead>\n",
       "  <tbody>\n",
       "    <tr>\n",
       "      <th>0</th>\n",
       "      <td>Bitcoin</td>\n",
       "      <td>$39,588.45</td>\n",
       "      <td>-0.0%</td>\n",
       "      <td>$16,019,115,909</td>\n",
       "      <td>$751,202,478,749</td>\n",
       "    </tr>\n",
       "    <tr>\n",
       "      <th>1</th>\n",
       "      <td>Ethereum</td>\n",
       "      <td>$2,672.37</td>\n",
       "      <td>1.7%</td>\n",
       "      <td>$9,425,551,140</td>\n",
       "      <td>$320,255,620,545</td>\n",
       "    </tr>\n",
       "    <tr>\n",
       "      <th>2</th>\n",
       "      <td>Tether</td>\n",
       "      <td>$1.00</td>\n",
       "      <td>-0.3%</td>\n",
       "      <td>$42,167,412,366</td>\n",
       "      <td>$79,826,262,904</td>\n",
       "    </tr>\n",
       "    <tr>\n",
       "      <th>3</th>\n",
       "      <td>BNB</td>\n",
       "      <td>$385.53</td>\n",
       "      <td>2.0%</td>\n",
       "      <td>$1,258,140,930</td>\n",
       "      <td>$64,821,849,307</td>\n",
       "    </tr>\n",
       "    <tr>\n",
       "      <th>4</th>\n",
       "      <td>USD Coin</td>\n",
       "      <td>$1.00</td>\n",
       "      <td>-0.1%</td>\n",
       "      <td>$2,234,536,461</td>\n",
       "      <td>$53,028,298,255</td>\n",
       "    </tr>\n",
       "    <tr>\n",
       "      <th>...</th>\n",
       "      <td>...</td>\n",
       "      <td>...</td>\n",
       "      <td>...</td>\n",
       "      <td>...</td>\n",
       "      <td>...</td>\n",
       "    </tr>\n",
       "    <tr>\n",
       "      <th>95</th>\n",
       "      <td>Dash</td>\n",
       "      <td>$89.87</td>\n",
       "      <td>-0.6%</td>\n",
       "      <td>$97,958,429</td>\n",
       "      <td>$953,625,911</td>\n",
       "    </tr>\n",
       "    <tr>\n",
       "      <th>96</th>\n",
       "      <td>Loopring</td>\n",
       "      <td>$0.763403</td>\n",
       "      <td>3.5%</td>\n",
       "      <td>$92,940,252</td>\n",
       "      <td>$951,194,067</td>\n",
       "    </tr>\n",
       "    <tr>\n",
       "      <th>97</th>\n",
       "      <td>Convex Finance</td>\n",
       "      <td>$17.74</td>\n",
       "      <td>6.8%</td>\n",
       "      <td>$47,622,682</td>\n",
       "      <td>$944,906,198</td>\n",
       "    </tr>\n",
       "    <tr>\n",
       "      <th>98</th>\n",
       "      <td>Curve DAO Token</td>\n",
       "      <td>$2.26</td>\n",
       "      <td>-1.1%</td>\n",
       "      <td>$102,854,654</td>\n",
       "      <td>$887,152,506</td>\n",
       "    </tr>\n",
       "    <tr>\n",
       "      <th>99</th>\n",
       "      <td>NEM</td>\n",
       "      <td>$0.097915497349</td>\n",
       "      <td>1.4%</td>\n",
       "      <td>$11,606,612</td>\n",
       "      <td>$881,239,476</td>\n",
       "    </tr>\n",
       "  </tbody>\n",
       "</table>\n",
       "<p>100 rows × 5 columns</p>\n",
       "</div>"
      ],
      "text/plain": [
       "        Criptoativo            Preço Variação       Volume 24h  \\\n",
       "0           Bitcoin       $39,588.45    -0.0%  $16,019,115,909   \n",
       "1          Ethereum        $2,672.37     1.7%   $9,425,551,140   \n",
       "2            Tether            $1.00    -0.3%  $42,167,412,366   \n",
       "3               BNB          $385.53     2.0%   $1,258,140,930   \n",
       "4          USD Coin            $1.00    -0.1%   $2,234,536,461   \n",
       "..              ...              ...      ...              ...   \n",
       "95             Dash           $89.87    -0.6%      $97,958,429   \n",
       "96         Loopring        $0.763403     3.5%      $92,940,252   \n",
       "97   Convex Finance           $17.74     6.8%      $47,622,682   \n",
       "98  Curve DAO Token            $2.26    -1.1%     $102,854,654   \n",
       "99              NEM  $0.097915497349     1.4%      $11,606,612   \n",
       "\n",
       "           MarketCap  \n",
       "0   $751,202,478,749  \n",
       "1   $320,255,620,545  \n",
       "2    $79,826,262,904  \n",
       "3    $64,821,849,307  \n",
       "4    $53,028,298,255  \n",
       "..               ...  \n",
       "95      $953,625,911  \n",
       "96      $951,194,067  \n",
       "97      $944,906,198  \n",
       "98      $887,152,506  \n",
       "99      $881,239,476  \n",
       "\n",
       "[100 rows x 5 columns]"
      ]
     },
     "metadata": {},
     "output_type": "display_data"
    }
   ],
   "source": [
    "display(tabela_cripto)"
   ]
  },
  {
   "attachments": {
    "image-3.png": {
     "image/png": "[encoded data removed]"
    },
    "image-4.png": {
     "image/png": "[encoded data removed]"
    }
   },
   "cell_type": "markdown",
   "id": "b116bf25",
   "metadata": {},
   "source": [
    "## Mas fizemos a raspagem de apenas uma página. Como raspar múltiplas páginas e coletar os dados dos 100 ativos de cada página?\n",
    "\n",
    "### Paginação do scrapping\n",
    "\n",
    "Ao navegar pelas páginas, a alteração do link se dá desta forma:\n",
    "![image-3.png](attachment:image-3.png)\n",
    "![image-4.png](attachment:image-4.png)\n",
    "\n",
    "Vamos usar este padrão para coletar infos de diversas páginas em looping"
   ]
  },
  {
   "cell_type": "code",
   "execution_count": 66,
   "id": "cf3a4bb5",
   "metadata": {},
   "outputs": [
    {
     "name": "stdout",
     "output_type": "stream",
     "text": [
      "Quantas páginas de dados você deseja? 10\n"
     ]
    }
   ],
   "source": [
    "#Vamos limpar nossas listas usadas no exemplo anterior, pois os valores trazidos pelo loop serão outros\n",
    "\n",
    "nome = []\n",
    "preco = []\n",
    "variacao = []\n",
    "volume = []\n",
    "mercado = []\n",
    "\n",
    "paginas = int(input('Quantas páginas de dados você deseja? '))"
   ]
  },
  {
   "cell_type": "code",
   "execution_count": 67,
   "id": "af882ad6",
   "metadata": {},
   "outputs": [],
   "source": [
    "#Agora vamos criar um looping para alterar os links de acordo com o padrão informado anteriormente:\n",
    "\n",
    "for i in range (1,(paginas + 1)):\n",
    "    #Vamos criar um link através do looping\n",
    "    website = 'https://www.coingecko.com/?page=' + str(i)\n",
    "    \n",
    "    #Agora vamos solicitar um request da página informada no website a cada iteração\n",
    "    response = requests.get(website)\n",
    "    \n",
    "    #Cada html deverá passar por um objeto soup\n",
    "    soup = bs(response.content, 'html.parser')\n",
    "    \n",
    "    #Os resultados do soup serão armazenados no results a cada iteração\n",
    "    results = soup.find('table', {'class': 'table-scrollable'}).find('tbody').find_all('tr')\n",
    "    \n",
    "    #Agora vamos acessar os valores das variáveis definidas anteriormente\n",
    "    #Para isso vamos fazer um looping a partir de da variável Results\n",
    "    \n",
    "    for result in results:\n",
    "    \n",
    "        #Nome\n",
    "        try:\n",
    "            nome.append(result.find('a', {'class': 'tw-hidden lg:tw-flex font-bold tw-items-center tw-justify-between'}).get_text().strip())\n",
    "        except:\n",
    "            nome.append('n/a')\n",
    "\n",
    "        #Preço\n",
    "        try:\n",
    "            preco.append(result.find('td', {'class': 'td-price price text-right pl-0'}).get_text().strip())\n",
    "        except:\n",
    "            preco.append('n/a')\n",
    "\n",
    "\n",
    "        #Variação\n",
    "        try:\n",
    "            variacao.append(result.find('td', {'class': 'td-change24h'}).get_text().strip())\n",
    "        except:\n",
    "            variacao.append('n/a')\n",
    "\n",
    "\n",
    "        #Volume\n",
    "        try:\n",
    "            volume.append(result.find('td', {'class': 'td-liquidity_score'}).get_text().strip())\n",
    "        except:\n",
    "            volume.append('n/a')        \n",
    "\n",
    "\n",
    "        #Valor de Mercado\n",
    "        try:\n",
    "            mercado.append(result.find('td', {'class': 'td-market_cap'}).get_text().strip())\n",
    "        except:\n",
    "            mercado.append('n/a')       "
   ]
  },
  {
   "cell_type": "code",
   "execution_count": 68,
   "id": "a3192269",
   "metadata": {},
   "outputs": [],
   "source": [
    "#Com os dados em mão, vamos inserí-los a um dataframe, como fizemos anteriormente\n",
    "tabela_cripto = pd.DataFrame({'Criptoativo': nome, 'Preço': preco, 'Variação': variacao, 'Volume 24h': volume, 'MarketCap': mercado})"
   ]
  },
  {
   "cell_type": "code",
   "execution_count": 69,
   "id": "015f0201",
   "metadata": {},
   "outputs": [
    {
     "data": {
      "text/html": [
       "<div>\n",
       "<style scoped>\n",
       "    .dataframe tbody tr th:only-of-type {\n",
       "        vertical-align: middle;\n",
       "    }\n",
       "\n",
       "    .dataframe tbody tr th {\n",
       "        vertical-align: top;\n",
       "    }\n",
       "\n",
       "    .dataframe thead th {\n",
       "        text-align: right;\n",
       "    }\n",
       "</style>\n",
       "<table border=\"1\" class=\"dataframe\">\n",
       "  <thead>\n",
       "    <tr style=\"text-align: right;\">\n",
       "      <th></th>\n",
       "      <th>Criptoativo</th>\n",
       "      <th>Preço</th>\n",
       "      <th>Variação</th>\n",
       "      <th>Volume 24h</th>\n",
       "      <th>MarketCap</th>\n",
       "    </tr>\n",
       "  </thead>\n",
       "  <tbody>\n",
       "    <tr>\n",
       "      <th>0</th>\n",
       "      <td>Bitcoin</td>\n",
       "      <td>$39,394.65</td>\n",
       "      <td>1.0%</td>\n",
       "      <td>$15,816,928,454</td>\n",
       "      <td>$747,477,300,348</td>\n",
       "    </tr>\n",
       "    <tr>\n",
       "      <th>1</th>\n",
       "      <td>Ethereum</td>\n",
       "      <td>$2,660.64</td>\n",
       "      <td>1.9%</td>\n",
       "      <td>$9,311,907,252</td>\n",
       "      <td>$318,517,794,949</td>\n",
       "    </tr>\n",
       "    <tr>\n",
       "      <th>2</th>\n",
       "      <td>Tether</td>\n",
       "      <td>$1.00</td>\n",
       "      <td>-0.0%</td>\n",
       "      <td>$41,586,859,997</td>\n",
       "      <td>$79,743,169,190</td>\n",
       "    </tr>\n",
       "    <tr>\n",
       "      <th>3</th>\n",
       "      <td>BNB</td>\n",
       "      <td>$384.38</td>\n",
       "      <td>1.8%</td>\n",
       "      <td>$1,226,687,193</td>\n",
       "      <td>$64,517,231,046</td>\n",
       "    </tr>\n",
       "    <tr>\n",
       "      <th>4</th>\n",
       "      <td>USD Coin</td>\n",
       "      <td>$1.00</td>\n",
       "      <td>-0.1%</td>\n",
       "      <td>$2,168,635,240</td>\n",
       "      <td>$52,908,396,681</td>\n",
       "    </tr>\n",
       "    <tr>\n",
       "      <th>...</th>\n",
       "      <td>...</td>\n",
       "      <td>...</td>\n",
       "      <td>...</td>\n",
       "      <td>...</td>\n",
       "      <td>...</td>\n",
       "    </tr>\n",
       "    <tr>\n",
       "      <th>995</th>\n",
       "      <td>Electra Protocol</td>\n",
       "      <td>$0.000746111098</td>\n",
       "      <td>-6.8%</td>\n",
       "      <td>$22,496.09</td>\n",
       "      <td>$12,943,539</td>\n",
       "    </tr>\n",
       "    <tr>\n",
       "      <th>996</th>\n",
       "      <td>Birake</td>\n",
       "      <td>$0.122375</td>\n",
       "      <td>0.7%</td>\n",
       "      <td>$3,995.37</td>\n",
       "      <td>$12,922,128</td>\n",
       "    </tr>\n",
       "    <tr>\n",
       "      <th>997</th>\n",
       "      <td>Cindicator</td>\n",
       "      <td>$0.006691987920</td>\n",
       "      <td>112.9%</td>\n",
       "      <td>$14,405,583</td>\n",
       "      <td>$12,915,346</td>\n",
       "    </tr>\n",
       "    <tr>\n",
       "      <th>998</th>\n",
       "      <td>VCGamers</td>\n",
       "      <td>$0.129564</td>\n",
       "      <td>14.6%</td>\n",
       "      <td>$537,971</td>\n",
       "      <td>$12,876,676</td>\n",
       "    </tr>\n",
       "    <tr>\n",
       "      <th>999</th>\n",
       "      <td>Netswap</td>\n",
       "      <td>$2.79</td>\n",
       "      <td>2.3%</td>\n",
       "      <td>$830,323</td>\n",
       "      <td>$12,876,523</td>\n",
       "    </tr>\n",
       "  </tbody>\n",
       "</table>\n",
       "<p>1000 rows × 5 columns</p>\n",
       "</div>"
      ],
      "text/plain": [
       "          Criptoativo            Preço Variação       Volume 24h  \\\n",
       "0             Bitcoin       $39,394.65     1.0%  $15,816,928,454   \n",
       "1            Ethereum        $2,660.64     1.9%   $9,311,907,252   \n",
       "2              Tether            $1.00    -0.0%  $41,586,859,997   \n",
       "3                 BNB          $384.38     1.8%   $1,226,687,193   \n",
       "4            USD Coin            $1.00    -0.1%   $2,168,635,240   \n",
       "..                ...              ...      ...              ...   \n",
       "995  Electra Protocol  $0.000746111098    -6.8%       $22,496.09   \n",
       "996            Birake        $0.122375     0.7%        $3,995.37   \n",
       "997        Cindicator  $0.006691987920   112.9%      $14,405,583   \n",
       "998          VCGamers        $0.129564    14.6%         $537,971   \n",
       "999           Netswap            $2.79     2.3%         $830,323   \n",
       "\n",
       "            MarketCap  \n",
       "0    $747,477,300,348  \n",
       "1    $318,517,794,949  \n",
       "2     $79,743,169,190  \n",
       "3     $64,517,231,046  \n",
       "4     $52,908,396,681  \n",
       "..                ...  \n",
       "995       $12,943,539  \n",
       "996       $12,922,128  \n",
       "997       $12,915,346  \n",
       "998       $12,876,676  \n",
       "999       $12,876,523  \n",
       "\n",
       "[1000 rows x 5 columns]"
      ]
     },
     "metadata": {},
     "output_type": "display_data"
    }
   ],
   "source": [
    "display(tabela_cripto)"
   ]
  },
  {
   "cell_type": "markdown",
   "id": "03945d76",
   "metadata": {},
   "source": [
    "### Rodei o programa e coloquei 10 páginas para obter dados, e o dataframe ficou com 1000 registros.\n",
    "#### A quantidade de páginas pode ser facilmente alterada algumas células acima\n",
    "\n",
    "Por fim, vamos salvar os resultados numa pasta do Excel"
   ]
  },
  {
   "cell_type": "code",
   "execution_count": 70,
   "id": "8f9603d9",
   "metadata": {},
   "outputs": [],
   "source": [
    "tabela_cripto.to_excel('Varias_paginas.xlsx', index = False)"
   ]
  }
 ],
 "metadata": {
  "kernelspec": {
   "display_name": "Python 3",
   "language": "python",
   "name": "python3"
  },
  "language_info": {
   "codemirror_mode": {
    "name": "ipython",
    "version": 3
   },
   "file_extension": ".py",
   "mimetype": "text/x-python",
   "name": "python",
   "nbconvert_exporter": "python",
   "pygments_lexer": "ipython3",
   "version": "3.8.8"
  }
 },
 "nbformat": 4,
 "nbformat_minor": 5
}
